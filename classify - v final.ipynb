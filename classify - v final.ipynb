{
 "cells": [
  {
   "cell_type": "code",
   "execution_count": 2,
   "metadata": {},
   "outputs": [],
   "source": [
    "import pandas as pd\n",
    "import matplotlib.pyplot as plt\n",
    "from scipy import stats\n",
    "import numpy as np\n",
    "import grequests"
   ]
  },
  {
   "cell_type": "markdown",
   "metadata": {},
   "source": [
    "##### Creating the legitimate urls"
   ]
  },
  {
   "cell_type": "code",
   "execution_count": 3,
   "metadata": {},
   "outputs": [
    {
     "data": {
      "text/html": [
       "<div>\n",
       "<style scoped>\n",
       "    .dataframe tbody tr th:only-of-type {\n",
       "        vertical-align: middle;\n",
       "    }\n",
       "\n",
       "    .dataframe tbody tr th {\n",
       "        vertical-align: top;\n",
       "    }\n",
       "\n",
       "    .dataframe thead th {\n",
       "        text-align: right;\n",
       "    }\n",
       "</style>\n",
       "<table border=\"1\" class=\"dataframe\">\n",
       "  <thead>\n",
       "    <tr style=\"text-align: right;\">\n",
       "      <th></th>\n",
       "      <th>urls</th>\n",
       "      <th>status</th>\n",
       "    </tr>\n",
       "  </thead>\n",
       "  <tbody>\n",
       "    <tr>\n",
       "      <th>0</th>\n",
       "      <td>http://127.0.0.1:5000/safe/0/page?id=0</td>\n",
       "      <td>0</td>\n",
       "    </tr>\n",
       "    <tr>\n",
       "      <th>1</th>\n",
       "      <td>http://127.0.0.1:5000/vulnerable/0/page?id=0</td>\n",
       "      <td>1</td>\n",
       "    </tr>\n",
       "    <tr>\n",
       "      <th>2</th>\n",
       "      <td>http://127.0.0.1:5000/safe/1/page?id=1</td>\n",
       "      <td>0</td>\n",
       "    </tr>\n",
       "    <tr>\n",
       "      <th>3</th>\n",
       "      <td>http://127.0.0.1:5000/vulnerable/1/page?id=1</td>\n",
       "      <td>1</td>\n",
       "    </tr>\n",
       "    <tr>\n",
       "      <th>4</th>\n",
       "      <td>http://127.0.0.1:5000/safe/2/page?id=2</td>\n",
       "      <td>0</td>\n",
       "    </tr>\n",
       "  </tbody>\n",
       "</table>\n",
       "</div>"
      ],
      "text/plain": [
       "                                           urls  status\n",
       "0        http://127.0.0.1:5000/safe/0/page?id=0       0\n",
       "1  http://127.0.0.1:5000/vulnerable/0/page?id=0       1\n",
       "2        http://127.0.0.1:5000/safe/1/page?id=1       0\n",
       "3  http://127.0.0.1:5000/vulnerable/1/page?id=1       1\n",
       "4        http://127.0.0.1:5000/safe/2/page?id=2       0"
      ]
     },
     "execution_count": 3,
     "metadata": {},
     "output_type": "execute_result"
    }
   ],
   "source": [
    "address=[]\n",
    "status=[]\n",
    "for i in range(5000):\n",
    "    address.append('http://127.0.0.1:5000/safe/{:}/page?id={:}'.format(i,i))\n",
    "    status.append(0)\n",
    "    address.append('http://127.0.0.1:5000/vulnerable/{:}/page?id={:}'.format(i,i))\n",
    "    status.append(1)\n",
    "    \n",
    "    \n",
    "result_dict={'urls': address, 'status': status}\n",
    "results = pd.DataFrame(result_dict)\n",
    "results.head()"
   ]
  },
  {
   "cell_type": "code",
   "execution_count": 4,
   "metadata": {},
   "outputs": [],
   "source": [
    "############################### preparing the urls for attaacking ######################################################\n",
    "results['address_to_attack'] ='aaa'\n",
    "\n",
    "for j, i in enumerate(results.urls):\n",
    "    address=i\n",
    "    add_to_att = address.replace(address[address.rfind('?id='):],'?id=SLEEP(5)')\n",
    "    results.at[j, 'address_to_attack']= add_to_att"
   ]
  },
  {
   "cell_type": "markdown",
   "metadata": {},
   "source": [
    "#### all the functions"
   ]
  },
  {
   "cell_type": "code",
   "execution_count": 20,
   "metadata": {},
   "outputs": [],
   "source": [
    "########################### plotting the probability density distribution and actual data #############################\n",
    "def plott_pdf(pdf_f , x ):\n",
    "    fig1 = plt.figure(figsize=(10,5))\n",
    "    ax1 = fig1.add_subplot(111)\n",
    "    line1 = ax1.hist(x, bins=80)\n",
    "    plt.ylabel(\"real regular respond times\")\n",
    "\n",
    "    x = np.linspace(pdf_f.ppf(0.01), pdf_f.ppf(0.99), 100)\n",
    "    ax2 = fig1.add_subplot(111, sharex=ax1, frameon=False)\n",
    "    line2 = ax2.plot(x, pdf_f.pdf(x), 'r-', lw=5, alpha=0.6, label='chi2 pdf')\n",
    "    ax2.yaxis.tick_right()\n",
    "    ax2.yaxis.set_label_position(\"right\")\n",
    "    plt.ylabel(\"Probability density Distribution Function\")\n",
    "    \n",
    "    plt.show()\n",
    "\n",
    "################################# creating unsent pool of requests  #################################################### \n",
    "def pool_requesting(address_urls, i,j):\n",
    "    \n",
    "    unsentrequests = (grequests.get(u) for u in address_urls[i:j])\n",
    "    response_list = grequests.map(unsentrequests)\n",
    "    response_final=[]\n",
    "    for response in response_list:\n",
    "        response_final.append([response.url, response.elapsed.total_seconds()])   \n",
    "    response_time_result= pd.DataFrame(response_final, columns=['urls', 'duration']) \n",
    "    \n",
    "    return response_time_result \n",
    "\n",
    "def pool_requesting_multiple(address_urls, i,j, how_many_times):\n",
    "    \n",
    "    respond_1= pool_requesting(address_urls, i,j)\n",
    "    columns_list =['duration']\n",
    "    for i in range(how_many_times-1):\n",
    "        column_name = 'duration_%s'%(i+2)\n",
    "        columns_list.append(column_name)\n",
    "        respond_temp = pool_requesting(address_urls, i,j)\n",
    "        respond_1[column_name] = respond_temp['duration'].copy(deep=True)\n",
    "      \n",
    "    respond_1['duration_f'] = respond_1[columns_list].min(axis=1)\n",
    "    respond_1.drop(columns_list, axis=1, inplace=True)\n",
    "    return respond_1\n",
    "    \n",
    "\n",
    "######### predicting based on each pdf (difference b.t. before and after attacking && response time after attack) #######  \n",
    "def is_regular_time(x, pdf_func, Confidence_interval):\n",
    "    probability = pdf_func.cdf(x)[0]\n",
    "    if probability<= Confidence_interval:\n",
    "        return True\n",
    "    else:\n",
    "        return False\n",
    "\n",
    "#############  status calculator for predicting based on difference b.t. before and after attacking   ##################    \n",
    "def status_calculator(x, confidence_interval, pdf_func):\n",
    "    y = pd.DataFrame(np.zeros((len(x),1)))\n",
    "    for i in range(len(x)):\n",
    "        if is_regular_time(x.loc[i], pdf_func, confidence_interval):\n",
    "            y.at[i] = 0\n",
    "        else:\n",
    "            y.at[i] = 1\n",
    "    return y      \n",
    "\n",
    "######################################## reporting the results #########################################################\n",
    "def report_result(predicted,target):\n",
    "    false_positive = 0\n",
    "    false_negetive = 0\n",
    "    diff = predicted - target\n",
    "    for i in diff:\n",
    "        if i == 1:\n",
    "            false_positive += 1\n",
    "        elif i == -1:\n",
    "            false_negetive += 1\n",
    "    return  false_positive, false_negetive\n",
    "\n",
    "####################################### plotting scatters   #############################################################\n",
    "def my_plot_scatter(y):\n",
    "    plt.figure(figsize=(10,6))\n",
    "    plt.grid(color='r', linestyle='-', linewidth=0.5)\n",
    "    x= np.arange(0,len(y),1)\n",
    "    plt.scatter(x, y, c='g')\n",
    "    plt.show()\n"
   ]
  },
  {
   "cell_type": "markdown",
   "metadata": {},
   "source": [
    "#### sending requests for regular urls and attacking"
   ]
  },
  {
   "cell_type": "code",
   "execution_count": 37,
   "metadata": {},
   "outputs": [],
   "source": [
    "regular_time_response  = pool_requesting_multiple(results.urls, 0, 1000, 2)\n",
    "regular_time_response_2 = pool_requesting_multiple(results.urls, 0, 1000, 2)\n",
    "regular_time_response_2.rename(columns={'duration_f': 'second_regular_duration'}, inplace=True)\n",
    "regular_time_response= regular_time_response.merge(regular_time_response_2, on='urls', how='left')\n",
    "regular_time_response['diff_regular'] =regular_time_response['duration_f'] -regular_time_response['second_regular_duration']\n",
    "regular_time_response.drop('second_regular_duration', axis=1, inplace=True)\n"
   ]
  },
  {
   "cell_type": "code",
   "execution_count": 22,
   "metadata": {},
   "outputs": [],
   "source": [
    "attacked_time_response = pool_requesting_multiple(results.address_to_attack, 1000, 2000, 2)\n",
    "attacked_time_response.rename(columns={'urls': 'address_to_attack', 'duration_f': 'attacked_duration'}, inplace=True"
   ]
  },
  {
   "cell_type": "code",
   "execution_count": 26,
   "metadata": {},
   "outputs": [],
   "source": [
    "data_to_train= pd.merge(regular_time_response, results, on='urls', how='left')  ### adding attacked urls & status\n",
    "data_to_train = data_to_train.merge(attacked_time_response, on='address_to_attack', how='left') ### adding attacked duration\n",
    "data_to_train['diff_attack_regular'] = data_to_train['attacked_duration'] - data_to_train['duration_f']"
   ]
  },
  {
   "cell_type": "code",
   "execution_count": 29,
   "metadata": {},
   "outputs": [],
   "source": [
    "\n",
    "# data_to_train.to_excel(r'D:\\Python Projects\\Detectify\\f_data_2.xlsx')\n",
    "# data_to_train = pd.read_excel(r'D:\\Python Projects\\Detectify\\f_data.xlsx')\n"
   ]
  },
  {
   "cell_type": "markdown",
   "metadata": {},
   "source": [
    "#### probability density distributions"
   ]
  },
  {
   "cell_type": "code",
   "execution_count": 30,
   "metadata": {},
   "outputs": [],
   "source": [
    "#######################  probability density distribution for response time after attack ###############################\n",
    "df_response_regular = data_to_train[['duration_f']].mean() + 1.1\n",
    "chi_pdf_response_regular= stats.chi2(df_response_regular)\n",
    "\n",
    "####################  probability density distribution for difference b.t. before and after attacking ##################\n",
    "mu = data_to_train[['diff_regular']].mean() \n",
    "std= data_to_train[['diff_regular']].std()\n",
    "var = std * std\n",
    "normal_pdf_diff_response= stats.norm(0, var)"
   ]
  },
  {
   "cell_type": "code",
   "execution_count": 32,
   "metadata": {},
   "outputs": [
    {
     "data": {
      "image/png": "[encoded data removed]",
      "text/plain": [
       "<Figure size 720x360 with 2 Axes>"
      ]
     },
     "metadata": {
      "needs_background": "light"
     },
     "output_type": "display_data"
    }
   ],
   "source": [
    "plott_pdf(chi_pdf_response_regular , data_to_train.duration_f)"
   ]
  },
  {
   "cell_type": "code",
   "execution_count": 33,
   "metadata": {},
   "outputs": [
    {
     "data": {
      "image/png": "[encoded data removed]",
      "text/plain": [
       "<Figure size 720x360 with 2 Axes>"
      ]
     },
     "metadata": {
      "needs_background": "light"
     },
     "output_type": "display_data"
    }
   ],
   "source": [
    "plott_pdf(normal_pdf_diff_response , data_to_train.diff_regular)"
   ]
  },
  {
   "cell_type": "markdown",
   "metadata": {},
   "source": [
    "#### defining the predicted status"
   ]
  },
  {
   "cell_type": "code",
   "execution_count": 34,
   "metadata": {},
   "outputs": [
    {
     "data": {
      "text/html": [
       "<div>\n",
       "<style scoped>\n",
       "    .dataframe tbody tr th:only-of-type {\n",
       "        vertical-align: middle;\n",
       "    }\n",
       "\n",
       "    .dataframe tbody tr th {\n",
       "        vertical-align: top;\n",
       "    }\n",
       "\n",
       "    .dataframe thead th {\n",
       "        text-align: right;\n",
       "    }\n",
       "</style>\n",
       "<table border=\"1\" class=\"dataframe\">\n",
       "  <thead>\n",
       "    <tr style=\"text-align: right;\">\n",
       "      <th></th>\n",
       "      <th>status</th>\n",
       "      <th>Pred_status_time_res</th>\n",
       "      <th>Pred_status_diff_time</th>\n",
       "    </tr>\n",
       "  </thead>\n",
       "  <tbody>\n",
       "    <tr>\n",
       "      <th>0</th>\n",
       "      <td>0</td>\n",
       "      <td>0.0</td>\n",
       "      <td>0.0</td>\n",
       "    </tr>\n",
       "    <tr>\n",
       "      <th>1</th>\n",
       "      <td>1</td>\n",
       "      <td>1.0</td>\n",
       "      <td>1.0</td>\n",
       "    </tr>\n",
       "    <tr>\n",
       "      <th>2</th>\n",
       "      <td>0</td>\n",
       "      <td>0.0</td>\n",
       "      <td>0.0</td>\n",
       "    </tr>\n",
       "    <tr>\n",
       "      <th>3</th>\n",
       "      <td>1</td>\n",
       "      <td>1.0</td>\n",
       "      <td>1.0</td>\n",
       "    </tr>\n",
       "    <tr>\n",
       "      <th>4</th>\n",
       "      <td>0</td>\n",
       "      <td>0.0</td>\n",
       "      <td>0.0</td>\n",
       "    </tr>\n",
       "  </tbody>\n",
       "</table>\n",
       "</div>"
      ],
      "text/plain": [
       "   status  Pred_status_time_res  Pred_status_diff_time\n",
       "0       0                   0.0                    0.0\n",
       "1       1                   1.0                    1.0\n",
       "2       0                   0.0                    0.0\n",
       "3       1                   1.0                    1.0\n",
       "4       0                   0.0                    0.0"
      ]
     },
     "execution_count": 34,
     "metadata": {},
     "output_type": "execute_result"
    }
   ],
   "source": [
    "confidence_interval=0.78\n",
    "\n",
    "data_to_train['Pred_status_time_res'] = status_calculator(data_to_train.attacked_duration,\n",
    "                                                          confidence_interval,\n",
    "                                                          chi_pdf_response_regular)\n",
    "\n",
    "data_to_train['Pred_status_diff_time'] = status_calculator(data_to_train.diff_attack_regular,\n",
    "                                                          confidence_interval,\n",
    "                                                          normal_pdf_diff_response)\n",
    "\n",
    "data_to_train[['status','Pred_status_time_res', 'Pred_status_diff_time']].head()"
   ]
  },
  {
   "cell_type": "code",
   "execution_count": 87,
   "metadata": {},
   "outputs": [],
   "source": [
    "data_to_train.to_excel(r'D:\\Python Projects\\Detectify\\ff_data.xlsx')\n",
    "# FP_response_time, FN_response_time = report_result(data_to_train.Pred_status_time_res,data_to_train.status)\n",
    "# FP_diff_time, FN_diff_time = report_result(data_to_train.Pred_status_diff_time,data_to_train.status)"
   ]
  },
  {
   "cell_type": "code",
   "execution_count": 36,
   "metadata": {},
   "outputs": [
    {
     "data": {
      "text/html": [
       "<div>\n",
       "<style scoped>\n",
       "    .dataframe tbody tr th:only-of-type {\n",
       "        vertical-align: middle;\n",
       "    }\n",
       "\n",
       "    .dataframe tbody tr th {\n",
       "        vertical-align: top;\n",
       "    }\n",
       "\n",
       "    .dataframe thead th {\n",
       "        text-align: right;\n",
       "    }\n",
       "</style>\n",
       "<table border=\"1\" class=\"dataframe\">\n",
       "  <thead>\n",
       "    <tr style=\"text-align: right;\">\n",
       "      <th></th>\n",
       "      <th>false positive response time method</th>\n",
       "      <th>false negetive response time methos</th>\n",
       "      <th>false positive difference attack and regular time</th>\n",
       "      <th>false negetive difference attack and regular time</th>\n",
       "    </tr>\n",
       "  </thead>\n",
       "  <tbody>\n",
       "    <tr>\n",
       "      <th>valus</th>\n",
       "      <td>0</td>\n",
       "      <td>0</td>\n",
       "      <td>1</td>\n",
       "      <td>0</td>\n",
       "    </tr>\n",
       "  </tbody>\n",
       "</table>\n",
       "</div>"
      ],
      "text/plain": [
       "       false positive response time method  \\\n",
       "valus                                    0   \n",
       "\n",
       "       false negetive response time methos  \\\n",
       "valus                                    0   \n",
       "\n",
       "       false positive difference attack and regular time  \\\n",
       "valus                                                  1   \n",
       "\n",
       "       false negetive difference attack and regular time  \n",
       "valus                                                  0  "
      ]
     },
     "execution_count": 36,
     "metadata": {},
     "output_type": "execute_result"
    }
   ],
   "source": [
    "result_dict ={'false positive response time method': FP_response_time,\n",
    "             'false negetive response time methos': FN_response_time,\n",
    "             'false positive difference attack and regular time': FP_diff_time,\n",
    "             'false negetive difference attack and regular time': FN_diff_time}\n",
    "final_comparison = pd.DataFrame(result_dict, index=['valus'])\n",
    "final_comparison"
   ]
  },
  {
   "cell_type": "markdown",
   "metadata": {},
   "source": [
    "- so, considering the results of the two probability density it seems that chi2 pdf has better performance\n",
    "----> so we use chi2 function in order to predict new urls' status"
   ]
  },
  {
   "cell_type": "markdown",
   "metadata": {},
   "source": [
    "### attacking new urls based on chi2"
   ]
  },
  {
   "cell_type": "code",
   "execution_count": 70,
   "metadata": {},
   "outputs": [
    {
     "data": {
      "text/html": [
       "<div>\n",
       "<style scoped>\n",
       "    .dataframe tbody tr th:only-of-type {\n",
       "        vertical-align: middle;\n",
       "    }\n",
       "\n",
       "    .dataframe tbody tr th {\n",
       "        vertical-align: top;\n",
       "    }\n",
       "\n",
       "    .dataframe thead th {\n",
       "        text-align: right;\n",
       "    }\n",
       "</style>\n",
       "<table border=\"1\" class=\"dataframe\">\n",
       "  <thead>\n",
       "    <tr style=\"text-align: right;\">\n",
       "      <th></th>\n",
       "      <th>urls</th>\n",
       "      <th>duration_f</th>\n",
       "    </tr>\n",
       "  </thead>\n",
       "  <tbody>\n",
       "    <tr>\n",
       "      <th>0</th>\n",
       "      <td>http://127.0.0.1:5000/safe/500/page?id=SLEEP(5)</td>\n",
       "      <td>3.501815</td>\n",
       "    </tr>\n",
       "    <tr>\n",
       "      <th>1</th>\n",
       "      <td>http://127.0.0.1:5000/vulnerable/500/page?id=S...</td>\n",
       "      <td>29.365138</td>\n",
       "    </tr>\n",
       "    <tr>\n",
       "      <th>2</th>\n",
       "      <td>http://127.0.0.1:5000/safe/501/page?id=SLEEP(5)</td>\n",
       "      <td>4.417279</td>\n",
       "    </tr>\n",
       "    <tr>\n",
       "      <th>3</th>\n",
       "      <td>http://127.0.0.1:5000/vulnerable/501/page?id=S...</td>\n",
       "      <td>28.864906</td>\n",
       "    </tr>\n",
       "    <tr>\n",
       "      <th>4</th>\n",
       "      <td>http://127.0.0.1:5000/safe/502/page?id=SLEEP(5)</td>\n",
       "      <td>3.821784</td>\n",
       "    </tr>\n",
       "  </tbody>\n",
       "</table>\n",
       "</div>"
      ],
      "text/plain": [
       "                                                urls  duration_f\n",
       "0    http://127.0.0.1:5000/safe/500/page?id=SLEEP(5)    3.501815\n",
       "1  http://127.0.0.1:5000/vulnerable/500/page?id=S...   29.365138\n",
       "2    http://127.0.0.1:5000/safe/501/page?id=SLEEP(5)    4.417279\n",
       "3  http://127.0.0.1:5000/vulnerable/501/page?id=S...   28.864906\n",
       "4    http://127.0.0.1:5000/safe/502/page?id=SLEEP(5)    3.821784"
      ]
     },
     "execution_count": 70,
     "metadata": {},
     "output_type": "execute_result"
    },
    {
     "name": "stderr",
     "output_type": "stream",
     "text": [
      "C:\\ProgramData\\Anaconda3\\lib\\site-packages\\gevent\\hub.py:154: UserWarning: libuv only supports millisecond timer resolution; all times less will be set to 1 ms\n",
      "  with loop.timer(seconds, ref=ref) as t:\n"
     ]
    }
   ],
   "source": [
    "test_data = results[1000:2000]\n",
    "test_rsponse_time = pool_requesting_multiple(test_data.address_to_attack, 0, 1000, 2)\n",
    "test_rsponse_time.head()"
   ]
  },
  {
   "cell_type": "code",
   "execution_count": 71,
   "metadata": {},
   "outputs": [
    {
     "data": {
      "text/html": [
       "<div>\n",
       "<style scoped>\n",
       "    .dataframe tbody tr th:only-of-type {\n",
       "        vertical-align: middle;\n",
       "    }\n",
       "\n",
       "    .dataframe tbody tr th {\n",
       "        vertical-align: top;\n",
       "    }\n",
       "\n",
       "    .dataframe thead th {\n",
       "        text-align: right;\n",
       "    }\n",
       "</style>\n",
       "<table border=\"1\" class=\"dataframe\">\n",
       "  <thead>\n",
       "    <tr style=\"text-align: right;\">\n",
       "      <th></th>\n",
       "      <th>address_to_attack</th>\n",
       "      <th>duration_f</th>\n",
       "      <th>urls</th>\n",
       "      <th>status</th>\n",
       "    </tr>\n",
       "  </thead>\n",
       "  <tbody>\n",
       "    <tr>\n",
       "      <th>0</th>\n",
       "      <td>http://127.0.0.1:5000/safe/500/page?id=SLEEP(5)</td>\n",
       "      <td>3.501815</td>\n",
       "      <td>http://127.0.0.1:5000/safe/500/page?id=500</td>\n",
       "      <td>0</td>\n",
       "    </tr>\n",
       "    <tr>\n",
       "      <th>1</th>\n",
       "      <td>http://127.0.0.1:5000/vulnerable/500/page?id=S...</td>\n",
       "      <td>29.365138</td>\n",
       "      <td>http://127.0.0.1:5000/vulnerable/500/page?id=500</td>\n",
       "      <td>1</td>\n",
       "    </tr>\n",
       "    <tr>\n",
       "      <th>2</th>\n",
       "      <td>http://127.0.0.1:5000/safe/501/page?id=SLEEP(5)</td>\n",
       "      <td>4.417279</td>\n",
       "      <td>http://127.0.0.1:5000/safe/501/page?id=501</td>\n",
       "      <td>0</td>\n",
       "    </tr>\n",
       "    <tr>\n",
       "      <th>3</th>\n",
       "      <td>http://127.0.0.1:5000/vulnerable/501/page?id=S...</td>\n",
       "      <td>28.864906</td>\n",
       "      <td>http://127.0.0.1:5000/vulnerable/501/page?id=501</td>\n",
       "      <td>1</td>\n",
       "    </tr>\n",
       "    <tr>\n",
       "      <th>4</th>\n",
       "      <td>http://127.0.0.1:5000/safe/502/page?id=SLEEP(5)</td>\n",
       "      <td>3.821784</td>\n",
       "      <td>http://127.0.0.1:5000/safe/502/page?id=502</td>\n",
       "      <td>0</td>\n",
       "    </tr>\n",
       "  </tbody>\n",
       "</table>\n",
       "</div>"
      ],
      "text/plain": [
       "                                   address_to_attack  duration_f  \\\n",
       "0    http://127.0.0.1:5000/safe/500/page?id=SLEEP(5)    3.501815   \n",
       "1  http://127.0.0.1:5000/vulnerable/500/page?id=S...   29.365138   \n",
       "2    http://127.0.0.1:5000/safe/501/page?id=SLEEP(5)    4.417279   \n",
       "3  http://127.0.0.1:5000/vulnerable/501/page?id=S...   28.864906   \n",
       "4    http://127.0.0.1:5000/safe/502/page?id=SLEEP(5)    3.821784   \n",
       "\n",
       "                                               urls  status  \n",
       "0        http://127.0.0.1:5000/safe/500/page?id=500       0  \n",
       "1  http://127.0.0.1:5000/vulnerable/500/page?id=500       1  \n",
       "2        http://127.0.0.1:5000/safe/501/page?id=501       0  \n",
       "3  http://127.0.0.1:5000/vulnerable/501/page?id=501       1  \n",
       "4        http://127.0.0.1:5000/safe/502/page?id=502       0  "
      ]
     },
     "execution_count": 71,
     "metadata": {},
     "output_type": "execute_result"
    }
   ],
   "source": [
    "test_rsponse_time.rename(columns={'urls': 'address_to_attack'}, inplace=True)\n",
    "test_rsponse_time_2=test_rsponse_time.merge(test_data, on='address_to_attack', how='left')\n",
    "test_rsponse_time_2.head()"
   ]
  },
  {
   "cell_type": "code",
   "execution_count": 84,
   "metadata": {},
   "outputs": [
    {
     "data": {
      "text/html": [
       "<div>\n",
       "<style scoped>\n",
       "    .dataframe tbody tr th:only-of-type {\n",
       "        vertical-align: middle;\n",
       "    }\n",
       "\n",
       "    .dataframe tbody tr th {\n",
       "        vertical-align: top;\n",
       "    }\n",
       "\n",
       "    .dataframe thead th {\n",
       "        text-align: right;\n",
       "    }\n",
       "</style>\n",
       "<table border=\"1\" class=\"dataframe\">\n",
       "  <thead>\n",
       "    <tr style=\"text-align: right;\">\n",
       "      <th></th>\n",
       "      <th>address_to_attack</th>\n",
       "      <th>duration_f</th>\n",
       "      <th>urls</th>\n",
       "      <th>status</th>\n",
       "      <th>Pred_status_time_res</th>\n",
       "    </tr>\n",
       "  </thead>\n",
       "  <tbody>\n",
       "    <tr>\n",
       "      <th>0</th>\n",
       "      <td>http://127.0.0.1:5000/safe/500/page?id=SLEEP(5)</td>\n",
       "      <td>3.501815</td>\n",
       "      <td>http://127.0.0.1:5000/safe/500/page?id=500</td>\n",
       "      <td>0</td>\n",
       "      <td>0.0</td>\n",
       "    </tr>\n",
       "    <tr>\n",
       "      <th>1</th>\n",
       "      <td>http://127.0.0.1:5000/vulnerable/500/page?id=S...</td>\n",
       "      <td>29.365138</td>\n",
       "      <td>http://127.0.0.1:5000/vulnerable/500/page?id=500</td>\n",
       "      <td>1</td>\n",
       "      <td>1.0</td>\n",
       "    </tr>\n",
       "    <tr>\n",
       "      <th>2</th>\n",
       "      <td>http://127.0.0.1:5000/safe/501/page?id=SLEEP(5)</td>\n",
       "      <td>4.417279</td>\n",
       "      <td>http://127.0.0.1:5000/safe/501/page?id=501</td>\n",
       "      <td>0</td>\n",
       "      <td>0.0</td>\n",
       "    </tr>\n",
       "    <tr>\n",
       "      <th>3</th>\n",
       "      <td>http://127.0.0.1:5000/vulnerable/501/page?id=S...</td>\n",
       "      <td>28.864906</td>\n",
       "      <td>http://127.0.0.1:5000/vulnerable/501/page?id=501</td>\n",
       "      <td>1</td>\n",
       "      <td>1.0</td>\n",
       "    </tr>\n",
       "    <tr>\n",
       "      <th>4</th>\n",
       "      <td>http://127.0.0.1:5000/safe/502/page?id=SLEEP(5)</td>\n",
       "      <td>3.821784</td>\n",
       "      <td>http://127.0.0.1:5000/safe/502/page?id=502</td>\n",
       "      <td>0</td>\n",
       "      <td>0.0</td>\n",
       "    </tr>\n",
       "  </tbody>\n",
       "</table>\n",
       "</div>"
      ],
      "text/plain": [
       "                                   address_to_attack  duration_f  \\\n",
       "0    http://127.0.0.1:5000/safe/500/page?id=SLEEP(5)    3.501815   \n",
       "1  http://127.0.0.1:5000/vulnerable/500/page?id=S...   29.365138   \n",
       "2    http://127.0.0.1:5000/safe/501/page?id=SLEEP(5)    4.417279   \n",
       "3  http://127.0.0.1:5000/vulnerable/501/page?id=S...   28.864906   \n",
       "4    http://127.0.0.1:5000/safe/502/page?id=SLEEP(5)    3.821784   \n",
       "\n",
       "                                               urls  status  \\\n",
       "0        http://127.0.0.1:5000/safe/500/page?id=500       0   \n",
       "1  http://127.0.0.1:5000/vulnerable/500/page?id=500       1   \n",
       "2        http://127.0.0.1:5000/safe/501/page?id=501       0   \n",
       "3  http://127.0.0.1:5000/vulnerable/501/page?id=501       1   \n",
       "4        http://127.0.0.1:5000/safe/502/page?id=502       0   \n",
       "\n",
       "   Pred_status_time_res  \n",
       "0                   0.0  \n",
       "1                   1.0  \n",
       "2                   0.0  \n",
       "3                   1.0  \n",
       "4                   0.0  "
      ]
     },
     "execution_count": 84,
     "metadata": {},
     "output_type": "execute_result"
    }
   ],
   "source": [
    "confidence_interval = 0.77\n",
    "test_rsponse_time_2['Pred_status_time_res'] = status_calculator(test_rsponse_time_2.duration_f,\n",
    "                                                          confidence_interval,\n",
    "                                                          chi_pdf_response_regular)\n",
    "test_rsponse_time_2.head()"
   ]
  },
  {
   "cell_type": "code",
   "execution_count": 85,
   "metadata": {},
   "outputs": [
    {
     "name": "stdout",
     "output_type": "stream",
     "text": [
      "------------------------------------------------------------------------------------------------------------------------\n",
      "false positive amount equals to 0\n",
      "false negetive amount equals to 0\n",
      "------------------------------------------------------------------------------------------------------------------------\n"
     ]
    }
   ],
   "source": [
    "FP, FN = report_result(test_rsponse_time_2.Pred_status_time_res,test_rsponse_time_2.status)\n",
    "\n",
    "print ('------------'*10)\n",
    "print('false positive amount equals to %d' % FP)\n",
    "print('false negetive amount equals to %d' % FN)\n",
    "print ('------------'*10)"
   ]
  },
  {
   "cell_type": "code",
   "execution_count": 86,
   "metadata": {},
   "outputs": [],
   "source": [
    "test_rsponse_time_2.to_excel(r'D:\\Python Projects\\Detectify\\test_results.xlsx')"
   ]
  },
  {
   "cell_type": "code",
   "execution_count": null,
   "metadata": {},
   "outputs": [],
   "source": []
  }
 ],
 "metadata": {
  "kernelspec": {
   "display_name": "Python 3",
   "language": "python",
   "name": "python3"
  },
  "language_info": {
   "codemirror_mode": {
    "name": "ipython",
    "version": 3
   },
   "file_extension": ".py",
   "mimetype": "text/x-python",
   "name": "python",
   "nbconvert_exporter": "python",
   "pygments_lexer": "ipython3",
   "version": "3.7.3"
  }
 },
 "nbformat": 4,
 "nbformat_minor": 4
}
